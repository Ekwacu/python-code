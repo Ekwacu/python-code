{
 "cells": [
  {
   "cell_type": "code",
   "execution_count": null,
   "id": "cf319f11",
   "metadata": {},
   "outputs": [],
   "source": [
    "import pymannkendall as mk\n",
    "import xarray as xr\n",
    "import numpy as np\n",
    "import matplotlib.pyplot as plt\n",
    "import matplotlib.path as mplPath\n",
    "import cartopy.crs as ccrs\n",
    "import cartopy.feature as cfeature\n",
    "from cartopy.mpl.gridliner import LONGITUDE_FORMATTER, LATITUDE_FORMATTER\n",
    "import matplotlib as mpl\n",
    "from matplotlib.colors import ListedColormap"
   ]
  },
  {
   "cell_type": "code",
   "execution_count": null,
   "id": "9a15f3f7",
   "metadata": {},
   "outputs": [],
   "source": [
    "dh = xr.open_dataset('D:/Folder_2023/Research/Joan/urban_hist1.nc')\n",
    "#dh               \n",
    "dh.data_vars"
   ]
  },
  {
   "cell_type": "code",
   "execution_count": null,
   "id": "ce02f7a5",
   "metadata": {},
   "outputs": [],
   "source": [
    "fig = plt.figure(figsize=[6,6])\n",
    "# 111 means 1 row, 1 col and index 1\n",
    "ax = fig.add_subplot(111, projection=ccrs.PlateCarree(central_longitude=0))\n",
    "ax.set_extent([27.25, 44.75, -11.75, 6.75], crs=ccrs.PlateCarree())\n",
    "dh['urban'].sel(time='2014-01-01 00:00:00').plot(ax=ax, cmap=plt.cm.RdYlBu,\n",
    "                        extend='both',transform=ccrs.PlateCarree())\n",
    "#levels=np.arange(0, 150, 20),\n",
    "ax.coastlines()\n",
    "ax.add_feature(cfeature.BORDERS, linewidth=1)\n",
    "gl=ax.gridlines(crs=ccrs.PlateCarree(), draw_labels=True, linewidth=1, color='gray', alpha=0.01, linestyle='--')\n",
    "gl.xlabels_top = False; gl.ylabels_left = True; gl.ylabels_right=False; gl.xlines = True\n",
    "gl.xformatter = LONGITUDE_FORMATTER; gl.yformatter = LATITUDE_FORMATTER\n",
    "plt.title('2014-01-01 00:00:00',fontsize=11, fontweight='bold')\n",
    "#plt.savefig('C:/ERSSTv5/output/V wind component diff.png')\n",
    "plt.show()"
   ]
  },
  {
   "cell_type": "code",
   "execution_count": null,
   "id": "2a10b9cc",
   "metadata": {},
   "outputs": [],
   "source": [
    "###For Annual Trends Only\n",
    "dat_samp =dh['urban'].groupby('time.year').mean('time')    ## Group data into yearly means for annual trends\n",
    "#Data"
   ]
  },
  {
   "cell_type": "code",
   "execution_count": null,
   "id": "9b7f9bf9",
   "metadata": {},
   "outputs": [],
   "source": [
    "#dat_samp = Data.sel(longitude=slice(27.25, 44.75), latitude=slice(-11.75, 6.75))  ## Slice to EAC\n",
    "slope_val = np.zeros((len(dat_samp.latitude.values),len(dat_samp.longitude.values)))\n",
    "p_value = np.zeros((len(dat_samp.latitude.values),len(dat_samp.longitude.values)))\n",
    "#output = []\n",
    "for i in np.arange(len(dat_samp.latitude.values)):\n",
    "    for j in np.arange(len(dat_samp.longitude.values)):\n",
    "        \n",
    "        try:\n",
    "            slope_val[i,j] = mk.original_test(dat_samp[:,i,j]).slope  ## trend,h,p,z,tau,s,var_s,slope,intercept = mk.original_test(x,0.05)\n",
    "            p_value[i,j] = mk.original_test(dat_samp[:,i,j]).p\n",
    "        except:\n",
    "            slope_val[i,j] = np.nan\n",
    "            p_value[i,j] = np.nan\n",
    "            \n",
    "        #output.append(slope_val)"
   ]
  },
  {
   "cell_type": "code",
   "execution_count": null,
   "id": "7a7aec53",
   "metadata": {},
   "outputs": [],
   "source": [
    "## Define data as Xarray dataset and save as netcdf\n",
    "output1=xr.DataArray(slope_val, dims=('latitude', 'longitude'), coords={'latitude':dat_samp.latitude, 'longitude':dat_samp.longitude}, attrs=dict(description=\"slope\", units=\"sst year-1\"),)\n",
    "data1 = output1.rename(\"trend\")\n",
    "\n",
    "output2=xr.DataArray(p_value, dims=('latitude', 'longitude'), coords={'latitude':dat_samp.latitude, 'longitude':dat_samp.longitude}, attrs=dict(description=\"significance\",),)\n",
    "data2 = output2.rename(\"p_val\")\n",
    "#data2\n",
    "## Save Data as netcdf\n",
    "#data1.to_netcdf('C:/Diabatic_data/Af_CNHR_1991-2021_Annual_trend.nc', mode='w')\n",
    "#data2.to_netcdf('C:/Diabatic_data/Af_CNHR_1991-2021_Annual_pvalue.nc', mode='w')\n",
    "#data2.plot()"
   ]
  },
  {
   "cell_type": "code",
   "execution_count": null,
   "id": "c84e6974",
   "metadata": {},
   "outputs": [],
   "source": [
    "## clip the data with the mask\n",
    "trnd = data1\n",
    "pval = data2\n",
    "#pval"
   ]
  },
  {
   "cell_type": "code",
   "execution_count": null,
   "id": "475b6496",
   "metadata": {},
   "outputs": [],
   "source": [
    "#Plot the map\n",
    "none_map = ListedColormap(['none'])\n",
    "fig = plt.subplots(constrained_layout=True, figsize=(12, 10))\n",
    "mpl.rcParams['font.family'] = 'Times New Roman'\n",
    "plt.rcParams['font.size'] = 12\n",
    "plt.rcParams['axes.linewidth'] = 0.4\n",
    "plt.gcf().subplots_adjust(hspace=0, wspace=0.08)\n",
    "ax = plt.subplot(projection=ccrs.PlateCarree(central_longitude=0))\n",
    "\n",
    "gl=ax.gridlines(crs=ccrs.PlateCarree(), draw_labels=True, linewidth=1, color='gray', alpha=0.01, linestyle='--')\n",
    "gl.xlabels_top = False; gl.ylabels_left = True; gl.ylabels_right=False; gl.xlines = True\n",
    "gl.xformatter = LONGITUDE_FORMATTER; gl.yformatter = LATITUDE_FORMATTER\n",
    "\n",
    "## Change this to the threshold you need.\n",
    "cond = (pval <= 0.05)\n",
    "## Mask out the areas that do not satisfy the conditions\n",
    "sig_reg = pval.where(cond)\n",
    "\n",
    "cs = plt.contourf(dat_samp.longitude, dat_samp.latitude, trnd.values[:,:],  \n",
    "               levels=np.arange(-0.4, 2.1, 0.4),cmap=plt.cm.RdYlBu, extend='both') \n",
    "#levels=np.arange(-0.4, 2.1, 0.4)\n",
    "## make a hatch of significance\n",
    "hatch = ax.pcolor(dat_samp.longitude, dat_samp.latitude, sig_reg.data[:,:], cmap=none_map, \n",
    "                 hatch='...', edgecolor='black', lw=0, zorder=4)\n",
    "\n",
    "# Adding geographical features\n",
    "ax.coastlines(resolution='10m', color='black', linewidth=1)\n",
    "ax.add_feature(cfeature.BORDERS, color='black', linewidth=1)\n",
    "## title attributes\n",
    "plt.title('OND season Rainfall Trends (1990-2020)',fontsize=16, fontweight='bold')\n",
    "plt.xticks(size = 10, fontweight='bold')\n",
    "plt.yticks(size = 10, fontweight='bold')\n",
    "##labling the axis\n",
    "plt.ylabel('Latitude',fontsize=14, fontweight='bold')\n",
    "plt.xlabel('Longitude',fontsize=14, fontweight='bold')\n",
    "##ploting the legend\n",
    "plt.subplots_adjust(bottom=0.08, right=0.8, top=0.8)\n",
    "\n",
    "###plt.colorbar(cax=cax)\n",
    "plt.colorbar(cs, ax=ax,cax = plt.axes([0.77, 0.1, 0.018, 0.6]), label='seasonal trends (mm/year)')\n",
    "# save output\n",
    "#plt.savefig('F:/Folder_2023/Ingeri/CRU-OND-season-wet_EAC.jpeg', dpi=300)\n",
    "plt.show()"
   ]
  }
 ],
 "metadata": {
  "kernelspec": {
   "display_name": "Python 3 (ipykernel)",
   "language": "python",
   "name": "python3"
  },
  "language_info": {
   "codemirror_mode": {
    "name": "ipython",
    "version": 3
   },
   "file_extension": ".py",
   "mimetype": "text/x-python",
   "name": "python",
   "nbconvert_exporter": "python",
   "pygments_lexer": "ipython3",
   "version": "3.9.13"
  }
 },
 "nbformat": 4,
 "nbformat_minor": 5
}
