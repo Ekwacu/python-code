{
 "cells": [
  {
   "cell_type": "code",
   "execution_count": 1,
   "metadata": {},
   "outputs": [],
   "source": [
    "import pymannkendall as mk\n",
    "import xarray as xr\n",
    "import numpy as np\n",
    "import matplotlib.pyplot as plt"
   ]
  },
  {
   "cell_type": "code",
   "execution_count": null,
   "metadata": {},
   "outputs": [],
   "source": [
    "#conda install -c conda-forge pymannkendall"
   ]
  },
  {
   "cell_type": "code",
   "execution_count": 29,
   "metadata": {},
   "outputs": [],
   "source": [
    "#uploaded.keys()\n",
    "in_file = 'tas_CanESM5_historical.nc'                      ## Input file\n",
    "Data = xr.open_dataset(in_file)                            ## read in the data\n",
    "Data=Data['tas'].groupby('time.year').mean('time')         ## Group data into yearly means\n",
    "#Data"
   ]
  },
  {
   "cell_type": "code",
   "execution_count": 5,
   "metadata": {},
   "outputs": [],
   "source": [
    "slope_val = np.zeros((len(Data.lat.values),len(Data.lon.values)))\n",
    "p_value = np.zeros((len(Data.lat.values),len(Data.lon.values)))\n",
    "#output = []\n",
    "for i in np.arange(len(Data.lat.values)):\n",
    "    for j in np.arange(len(Data.lon.values)):\n",
    "        \n",
    "        try:\n",
    "            slope_val[i,j] = mk.original_test(Data[:,i,j]).slope  ## trend,h,p,z,tau,s,var_s,slope,intercept = mk.original_test(x,0.05)\n",
    "            p_value[i,j] = mk.original_test(Data[:,i,j]).p\n",
    "        except:\n",
    "            slope_val[i,j] = np.nan\n",
    "            p_value[i,j] = np.nan\n",
    "            \n",
    "        #output.append(slope_val)"
   ]
  },
  {
   "cell_type": "code",
   "execution_count": 41,
   "metadata": {},
   "outputs": [],
   "source": [
    "## Define data as Xarray dataset and save as netcdf\n",
    "\n",
    "output1=xr.DataArray(slope_val, dims=('lat', 'lon'), coords={'lat':Data.lat, 'lon':Data.lon}, attrs=dict(description=\"slope.\", units=\"degC year-1\"),)\n",
    "data1 = output1.rename(\"trend\")\n",
    "output2=xr.DataArray(p_value, dims=('lat', 'lon'), coords={'lat':Data.lat, 'lon':Data.lon}, attrs=dict(description=\"significance\",),)\n",
    "data2 = output2.rename(\"p_val\")\n",
    "\n",
    "## Save Data as netcdf\n",
    "\n",
    "data.to_netcdf('tas_CanESM5_historical_trend.nc', mode='w')\n",
    "data.to_netcdf('tas_CanESM5_historical_pval.nc', mode='w')"
   ]
  },
  {
   "cell_type": "code",
   "execution_count": null,
   "metadata": {},
   "outputs": [],
   "source": []
  }
 ],
 "metadata": {
  "kernelspec": {
   "display_name": "Python 3 (ipykernel)",
   "language": "python",
   "name": "python3"
  },
  "language_info": {
   "codemirror_mode": {
    "name": "ipython",
    "version": 3
   },
   "file_extension": ".py",
   "mimetype": "text/x-python",
   "name": "python",
   "nbconvert_exporter": "python",
   "pygments_lexer": "ipython3",
   "version": "3.9.13"
  }
 },
 "nbformat": 4,
 "nbformat_minor": 4
}
