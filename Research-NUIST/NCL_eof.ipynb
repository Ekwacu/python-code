{
 "cells": [
  {
   "cell_type": "code",
   "execution_count": 2,
   "metadata": {},
   "outputs": [],
   "source": [
    "%matplotlib inline"
   ]
  },
  {
   "cell_type": "markdown",
   "metadata": {},
   "source": [
    "\n",
    "# NCL_eof_1_1.py\n",
    "Calculate EOFs of the Sea Level Pressure over the North Atlantic.\n",
    "\n",
    "This script illustrates the following concepts:\n",
    "  - Calculating EOFs\n",
    "  - Drawing a time series plot\n",
    "  - Using coordinate subscripting to read a specified geographical region\n",
    "  - Rearranging longitude data to span -180 to 180\n",
    "  - Calculating symmetric contour intervals\n",
    "  - Drawing filled bars above and below a given reference line\n",
    "  - Drawing subtitles at the top of a plot\n",
    "  - Reordering an array\n",
    "\n",
    "See following URLs to see the reproduced NCL plot & script:\n",
    "    - Original NCL script: https://www.ncl.ucar.edu/Applications/Scripts/eof_1.ncl\n",
    "    - Original NCL plot: https://www.ncl.ucar.edu/Applications/Images/eof_1_1_lg.png\n",
    "      and https://www.ncl.ucar.edu/Applications/Images/eof_1_2_lg.png\n",
    "\n",
    "Note (1):\n",
    "    So-called original NCL plot \"eof_1_2_lg.png\" given in the above URL is likely\n",
    "    not identical to what the given NCL original script generates. When the given\n",
    "    NCL script is run, it generates a plot with identical data to that is plotted\n",
    "    by this Python script.\n"
   ]
  },
  {
   "cell_type": "markdown",
   "metadata": {},
   "source": [
    "Import packages:\n",
    "\n"
   ]
  },
  {
   "cell_type": "code",
   "execution_count": 3,
   "metadata": {},
   "outputs": [
    {
     "ename": "AttributeError",
     "evalue": "module 'os' has no attribute 'WNOHANG'",
     "output_type": "error",
     "traceback": [
      "\u001b[1;31m---------------------------------------------------------------------------\u001b[0m",
      "\u001b[1;31mAttributeError\u001b[0m                            Traceback (most recent call last)",
      "\u001b[1;32m~\\AppData\\Local\\Temp\\ipykernel_5988\\2651674412.py\u001b[0m in \u001b[0;36m<module>\u001b[1;34m\u001b[0m\n\u001b[0;32m      7\u001b[0m \u001b[1;32mimport\u001b[0m \u001b[0mgeocat\u001b[0m\u001b[1;33m.\u001b[0m\u001b[0mdatafiles\u001b[0m \u001b[1;32mas\u001b[0m \u001b[0mgdf\u001b[0m\u001b[1;33m\u001b[0m\u001b[1;33m\u001b[0m\u001b[0m\n\u001b[0;32m      8\u001b[0m \u001b[1;32mimport\u001b[0m \u001b[0mgeocat\u001b[0m\u001b[1;33m.\u001b[0m\u001b[0mviz\u001b[0m \u001b[1;32mas\u001b[0m \u001b[0mgv\u001b[0m\u001b[1;33m\u001b[0m\u001b[1;33m\u001b[0m\u001b[0m\n\u001b[1;32m----> 9\u001b[1;33m \u001b[1;32mfrom\u001b[0m \u001b[0mgeocat\u001b[0m\u001b[1;33m.\u001b[0m\u001b[0mcomp\u001b[0m \u001b[1;32mimport\u001b[0m \u001b[0meofunc_eofs\u001b[0m\u001b[1;33m,\u001b[0m \u001b[0meofunc_pcs\u001b[0m\u001b[1;33m,\u001b[0m \u001b[0mmonth_to_season\u001b[0m\u001b[1;33m\u001b[0m\u001b[1;33m\u001b[0m\u001b[0m\n\u001b[0m",
      "\u001b[1;32m~\\anaconda3\\lib\\site-packages\\geocat\\comp\\__init__.py\u001b[0m in \u001b[0;36m<module>\u001b[1;34m\u001b[0m\n\u001b[0;32m     21\u001b[0m \u001b[1;31m# bring all functions from geocat.f2py into the geocat.comp namespace\u001b[0m\u001b[1;33m\u001b[0m\u001b[1;33m\u001b[0m\u001b[0m\n\u001b[0;32m     22\u001b[0m \u001b[1;32mtry\u001b[0m\u001b[1;33m:\u001b[0m\u001b[1;33m\u001b[0m\u001b[1;33m\u001b[0m\u001b[0m\n\u001b[1;32m---> 23\u001b[1;33m     \u001b[1;32mfrom\u001b[0m \u001b[0mgeocat\u001b[0m\u001b[1;33m.\u001b[0m\u001b[0mf2py\u001b[0m \u001b[1;32mimport\u001b[0m \u001b[1;33m*\u001b[0m\u001b[1;33m\u001b[0m\u001b[1;33m\u001b[0m\u001b[0m\n\u001b[0m\u001b[0;32m     24\u001b[0m \u001b[1;32mexcept\u001b[0m \u001b[0mImportError\u001b[0m\u001b[1;33m:\u001b[0m\u001b[1;33m\u001b[0m\u001b[1;33m\u001b[0m\u001b[0m\n\u001b[0;32m     25\u001b[0m     \u001b[1;32mpass\u001b[0m\u001b[1;33m\u001b[0m\u001b[1;33m\u001b[0m\u001b[0m\n",
      "\u001b[1;32m~\\anaconda3\\lib\\site-packages\\geocat\\f2py\\__init__.py\u001b[0m in \u001b[0;36m<module>\u001b[1;34m\u001b[0m\n\u001b[0;32m      1\u001b[0m \u001b[1;31m# This prevents a python 3.9 bug\u001b[0m\u001b[1;33m\u001b[0m\u001b[1;33m\u001b[0m\u001b[0m\n\u001b[1;32m----> 2\u001b[1;33m \u001b[1;32mimport\u001b[0m \u001b[0mmultiprocessing\u001b[0m\u001b[1;33m.\u001b[0m\u001b[0mpopen_spawn_posix\u001b[0m\u001b[1;33m\u001b[0m\u001b[1;33m\u001b[0m\u001b[0m\n\u001b[0m\u001b[0;32m      3\u001b[0m \u001b[1;33m\u001b[0m\u001b[0m\n\u001b[0;32m      4\u001b[0m \u001b[1;32mfrom\u001b[0m \u001b[1;33m.\u001b[0m\u001b[0mdpres_plevel_wrapper\u001b[0m \u001b[1;32mimport\u001b[0m \u001b[0mdpres_plevel\u001b[0m\u001b[1;33m\u001b[0m\u001b[1;33m\u001b[0m\u001b[0m\n\u001b[0;32m      5\u001b[0m \u001b[1;32mfrom\u001b[0m \u001b[1;33m.\u001b[0m\u001b[0merrors\u001b[0m \u001b[1;32mimport\u001b[0m \u001b[1;33m*\u001b[0m\u001b[1;33m\u001b[0m\u001b[1;33m\u001b[0m\u001b[0m\n",
      "\u001b[1;32m~\\anaconda3\\lib\\multiprocessing\\popen_spawn_posix.py\u001b[0m in \u001b[0;36m<module>\u001b[1;34m\u001b[0m\n\u001b[0;32m      3\u001b[0m \u001b[1;33m\u001b[0m\u001b[0m\n\u001b[0;32m      4\u001b[0m \u001b[1;32mfrom\u001b[0m \u001b[1;33m.\u001b[0m\u001b[0mcontext\u001b[0m \u001b[1;32mimport\u001b[0m \u001b[0mreduction\u001b[0m\u001b[1;33m,\u001b[0m \u001b[0mset_spawning_popen\u001b[0m\u001b[1;33m\u001b[0m\u001b[1;33m\u001b[0m\u001b[0m\n\u001b[1;32m----> 5\u001b[1;33m \u001b[1;32mfrom\u001b[0m \u001b[1;33m.\u001b[0m \u001b[1;32mimport\u001b[0m \u001b[0mpopen_fork\u001b[0m\u001b[1;33m\u001b[0m\u001b[1;33m\u001b[0m\u001b[0m\n\u001b[0m\u001b[0;32m      6\u001b[0m \u001b[1;32mfrom\u001b[0m \u001b[1;33m.\u001b[0m \u001b[1;32mimport\u001b[0m \u001b[0mspawn\u001b[0m\u001b[1;33m\u001b[0m\u001b[1;33m\u001b[0m\u001b[0m\n\u001b[0;32m      7\u001b[0m \u001b[1;32mfrom\u001b[0m \u001b[1;33m.\u001b[0m \u001b[1;32mimport\u001b[0m \u001b[0mutil\u001b[0m\u001b[1;33m\u001b[0m\u001b[1;33m\u001b[0m\u001b[0m\n",
      "\u001b[1;32m~\\anaconda3\\lib\\multiprocessing\\popen_fork.py\u001b[0m in \u001b[0;36m<module>\u001b[1;34m\u001b[0m\n\u001b[0;32m     10\u001b[0m \u001b[1;31m#\u001b[0m\u001b[1;33m\u001b[0m\u001b[1;33m\u001b[0m\u001b[0m\n\u001b[0;32m     11\u001b[0m \u001b[1;33m\u001b[0m\u001b[0m\n\u001b[1;32m---> 12\u001b[1;33m \u001b[1;32mclass\u001b[0m \u001b[0mPopen\u001b[0m\u001b[1;33m(\u001b[0m\u001b[0mobject\u001b[0m\u001b[1;33m)\u001b[0m\u001b[1;33m:\u001b[0m\u001b[1;33m\u001b[0m\u001b[1;33m\u001b[0m\u001b[0m\n\u001b[0m\u001b[0;32m     13\u001b[0m     \u001b[0mmethod\u001b[0m \u001b[1;33m=\u001b[0m \u001b[1;34m'fork'\u001b[0m\u001b[1;33m\u001b[0m\u001b[1;33m\u001b[0m\u001b[0m\n\u001b[0;32m     14\u001b[0m \u001b[1;33m\u001b[0m\u001b[0m\n",
      "\u001b[1;32m~\\anaconda3\\lib\\multiprocessing\\popen_fork.py\u001b[0m in \u001b[0;36mPopen\u001b[1;34m()\u001b[0m\n\u001b[0;32m     22\u001b[0m         \u001b[1;32mreturn\u001b[0m \u001b[0mfd\u001b[0m\u001b[1;33m\u001b[0m\u001b[1;33m\u001b[0m\u001b[0m\n\u001b[0;32m     23\u001b[0m \u001b[1;33m\u001b[0m\u001b[0m\n\u001b[1;32m---> 24\u001b[1;33m     \u001b[1;32mdef\u001b[0m \u001b[0mpoll\u001b[0m\u001b[1;33m(\u001b[0m\u001b[0mself\u001b[0m\u001b[1;33m,\u001b[0m \u001b[0mflag\u001b[0m\u001b[1;33m=\u001b[0m\u001b[0mos\u001b[0m\u001b[1;33m.\u001b[0m\u001b[0mWNOHANG\u001b[0m\u001b[1;33m)\u001b[0m\u001b[1;33m:\u001b[0m\u001b[1;33m\u001b[0m\u001b[1;33m\u001b[0m\u001b[0m\n\u001b[0m\u001b[0;32m     25\u001b[0m         \u001b[1;32mif\u001b[0m \u001b[0mself\u001b[0m\u001b[1;33m.\u001b[0m\u001b[0mreturncode\u001b[0m \u001b[1;32mis\u001b[0m \u001b[1;32mNone\u001b[0m\u001b[1;33m:\u001b[0m\u001b[1;33m\u001b[0m\u001b[1;33m\u001b[0m\u001b[0m\n\u001b[0;32m     26\u001b[0m             \u001b[1;32mtry\u001b[0m\u001b[1;33m:\u001b[0m\u001b[1;33m\u001b[0m\u001b[1;33m\u001b[0m\u001b[0m\n",
      "\u001b[1;31mAttributeError\u001b[0m: module 'os' has no attribute 'WNOHANG'"
     ]
    }
   ],
   "source": [
    "import xarray as xr\n",
    "import numpy as np\n",
    "import matplotlib.pyplot as plt\n",
    "import cartopy.crs as ccrs\n",
    "import cmaps\n",
    "\n",
    "import geocat.datafiles as gdf\n",
    "import geocat.viz as gv\n",
    "from geocat.comp import eofunc_eofs, eofunc_pcs, month_to_season"
   ]
  },
  {
   "cell_type": "markdown",
   "metadata": {},
   "source": [
    "User defined parameters and a convenience function:\n",
    "\n"
   ]
  },
  {
   "cell_type": "code",
   "execution_count": 4,
   "metadata": {},
   "outputs": [],
   "source": [
    "# In order to specify region of the globe, time span, etc.\n",
    "latS = 25.\n",
    "latN = 80.\n",
    "lonL = -70.\n",
    "lonR = 40.\n",
    "\n",
    "yearStart = 1979\n",
    "yearEnd = 2003\n",
    "\n",
    "neof = 3  # number of EOFs"
   ]
  },
  {
   "cell_type": "markdown",
   "metadata": {},
   "source": [
    "Read in data:\n",
    "\n"
   ]
  },
  {
   "cell_type": "code",
   "execution_count": 5,
   "metadata": {},
   "outputs": [
    {
     "ename": "ValueError",
     "evalue": "File 'D:/Folder_2023/Research/Frank/Frank_OLD/schirps-v2.0.monthly.nc' is not in the registry.",
     "output_type": "error",
     "traceback": [
      "\u001b[1;31m---------------------------------------------------------------------------\u001b[0m",
      "\u001b[1;31mValueError\u001b[0m                                Traceback (most recent call last)",
      "\u001b[1;32m~\\AppData\\Local\\Temp\\ipykernel_9888\\222781760.py\u001b[0m in \u001b[0;36m<module>\u001b[1;34m\u001b[0m\n\u001b[0;32m      1\u001b[0m \u001b[1;31m# Open a netCDF data file using xarray default engine and load the data into xarrays\u001b[0m\u001b[1;33m\u001b[0m\u001b[1;33m\u001b[0m\u001b[0m\n\u001b[0;32m      2\u001b[0m \u001b[1;31m#ds = xr.open_dataset(gdf.get('netcdf_files/slp.mon.mean.nc'))\u001b[0m\u001b[1;33m\u001b[0m\u001b[1;33m\u001b[0m\u001b[0m\n\u001b[1;32m----> 3\u001b[1;33m \u001b[0mds\u001b[0m \u001b[1;33m=\u001b[0m \u001b[0mxr\u001b[0m\u001b[1;33m.\u001b[0m\u001b[0mopen_dataset\u001b[0m\u001b[1;33m(\u001b[0m\u001b[0mgdf\u001b[0m\u001b[1;33m.\u001b[0m\u001b[0mget\u001b[0m\u001b[1;33m(\u001b[0m\u001b[1;34m'D:/Folder_2023/Research/Frank/Frank_OLD/schirps-v2.0.monthly.nc'\u001b[0m\u001b[1;33m)\u001b[0m\u001b[1;33m)\u001b[0m\u001b[1;33m\u001b[0m\u001b[1;33m\u001b[0m\u001b[0m\n\u001b[0m",
      "\u001b[1;32m~\\anaconda3\\lib\\site-packages\\geocat\\datafiles\\__init__.py\u001b[0m in \u001b[0;36mget\u001b[1;34m(fname)\u001b[0m\n\u001b[0;32m     29\u001b[0m \u001b[1;33m\u001b[0m\u001b[0m\n\u001b[0;32m     30\u001b[0m \u001b[1;32mdef\u001b[0m \u001b[0mget\u001b[0m\u001b[1;33m(\u001b[0m\u001b[0mfname\u001b[0m\u001b[1;33m)\u001b[0m\u001b[1;33m:\u001b[0m\u001b[1;33m\u001b[0m\u001b[1;33m\u001b[0m\u001b[0m\n\u001b[1;32m---> 31\u001b[1;33m     \u001b[1;32mreturn\u001b[0m \u001b[0mPOOCH\u001b[0m\u001b[1;33m.\u001b[0m\u001b[0mfetch\u001b[0m\u001b[1;33m(\u001b[0m\u001b[0mfname\u001b[0m\u001b[1;33m)\u001b[0m\u001b[1;33m\u001b[0m\u001b[1;33m\u001b[0m\u001b[0m\n\u001b[0m",
      "\u001b[1;32m~\\anaconda3\\lib\\site-packages\\pooch\\core.py\u001b[0m in \u001b[0;36mfetch\u001b[1;34m(self, fname, processor, downloader, progressbar)\u001b[0m\n\u001b[0;32m    558\u001b[0m \u001b[1;33m\u001b[0m\u001b[0m\n\u001b[0;32m    559\u001b[0m         \"\"\"\n\u001b[1;32m--> 560\u001b[1;33m         \u001b[0mself\u001b[0m\u001b[1;33m.\u001b[0m\u001b[0m_assert_file_in_registry\u001b[0m\u001b[1;33m(\u001b[0m\u001b[0mfname\u001b[0m\u001b[1;33m)\u001b[0m\u001b[1;33m\u001b[0m\u001b[1;33m\u001b[0m\u001b[0m\n\u001b[0m\u001b[0;32m    561\u001b[0m \u001b[1;33m\u001b[0m\u001b[0m\n\u001b[0;32m    562\u001b[0m         \u001b[1;31m# Create the local data directory if it doesn't already exist\u001b[0m\u001b[1;33m\u001b[0m\u001b[1;33m\u001b[0m\u001b[0m\n",
      "\u001b[1;32m~\\anaconda3\\lib\\site-packages\\pooch\\core.py\u001b[0m in \u001b[0;36m_assert_file_in_registry\u001b[1;34m(self, fname)\u001b[0m\n\u001b[0;32m    605\u001b[0m         \"\"\"\n\u001b[0;32m    606\u001b[0m         \u001b[1;32mif\u001b[0m \u001b[0mfname\u001b[0m \u001b[1;32mnot\u001b[0m \u001b[1;32min\u001b[0m \u001b[0mself\u001b[0m\u001b[1;33m.\u001b[0m\u001b[0mregistry\u001b[0m\u001b[1;33m:\u001b[0m\u001b[1;33m\u001b[0m\u001b[1;33m\u001b[0m\u001b[0m\n\u001b[1;32m--> 607\u001b[1;33m             \u001b[1;32mraise\u001b[0m \u001b[0mValueError\u001b[0m\u001b[1;33m(\u001b[0m\u001b[1;34mf\"File '{fname}' is not in the registry.\"\u001b[0m\u001b[1;33m)\u001b[0m\u001b[1;33m\u001b[0m\u001b[1;33m\u001b[0m\u001b[0m\n\u001b[0m\u001b[0;32m    608\u001b[0m \u001b[1;33m\u001b[0m\u001b[0m\n\u001b[0;32m    609\u001b[0m     \u001b[1;32mdef\u001b[0m \u001b[0mget_url\u001b[0m\u001b[1;33m(\u001b[0m\u001b[0mself\u001b[0m\u001b[1;33m,\u001b[0m \u001b[0mfname\u001b[0m\u001b[1;33m)\u001b[0m\u001b[1;33m:\u001b[0m\u001b[1;33m\u001b[0m\u001b[1;33m\u001b[0m\u001b[0m\n",
      "\u001b[1;31mValueError\u001b[0m: File 'D:/Folder_2023/Research/Frank/Frank_OLD/schirps-v2.0.monthly.nc' is not in the registry."
     ]
    }
   ],
   "source": [
    "# Open a netCDF data file using xarray default engine and load the data into xarrays\n",
    "#ds = xr.open_dataset(gdf.get('netcdf_files/slp.mon.mean.nc'))\n",
    "ds = xr.open_dataset(gdf.get('D:/Folder_2023/Research/Frank/Frank_OLD/schirps-v2.0.monthly.nc'))"
   ]
  },
  {
   "cell_type": "markdown",
   "metadata": {},
   "source": [
    "Flip and sort longitude coordinates:\n",
    "\n"
   ]
  },
  {
   "cell_type": "code",
   "execution_count": null,
   "metadata": {},
   "outputs": [],
   "source": [
    "# To facilitate data subsetting\n",
    "\n",
    "ds[\"lon\"] = ((ds[\"lon\"] + 180) % 360) - 180\n",
    "\n",
    "# Sort longitudes, so that subset operations end up being simpler.\n",
    "ds = ds.sortby(\"lon\")"
   ]
  },
  {
   "cell_type": "markdown",
   "metadata": {},
   "source": [
    "Place latitudes in increasing order:\n",
    "\n"
   ]
  },
  {
   "cell_type": "code",
   "execution_count": null,
   "metadata": {},
   "outputs": [],
   "source": [
    "# To facilitate data subsetting\n",
    "\n",
    "ds = ds.sortby(\"lat\", ascending=True)"
   ]
  },
  {
   "cell_type": "markdown",
   "metadata": {},
   "source": [
    "Limit data to the specified years:\n",
    "\n"
   ]
  },
  {
   "cell_type": "code",
   "execution_count": null,
   "metadata": {},
   "outputs": [],
   "source": [
    "startDate = f'{yearStart}-01-01'\n",
    "endDate = f'{yearEnd}-12-31'\n",
    "\n",
    "ds = ds.sel(time=slice(startDate, endDate))"
   ]
  },
  {
   "cell_type": "markdown",
   "metadata": {},
   "source": [
    "Compute desired global seasonal mean using month_to_season()\n",
    "\n"
   ]
  },
  {
   "cell_type": "code",
   "execution_count": null,
   "metadata": {},
   "outputs": [],
   "source": [
    "# Choose the winter season (December-January-February)\n",
    "season = \"DJF\"\n",
    "SLP = month_to_season(ds, season)"
   ]
  },
  {
   "cell_type": "markdown",
   "metadata": {},
   "source": [
    "Create weights: sqrt(cos(lat))   [or sqrt(gw) ]\n",
    "\n"
   ]
  },
  {
   "cell_type": "code",
   "execution_count": null,
   "metadata": {},
   "outputs": [],
   "source": [
    "clat = SLP['lat'].astype(np.float64)\n",
    "clat = np.sqrt(np.cos(np.deg2rad(clat)))"
   ]
  },
  {
   "cell_type": "markdown",
   "metadata": {},
   "source": [
    "Multiply SLP by weights:\n",
    "\n"
   ]
  },
  {
   "cell_type": "code",
   "execution_count": null,
   "metadata": {},
   "outputs": [],
   "source": [
    "# Xarray will apply latitude-based weights to all longitudes and timesteps automatically.\n",
    "# This is called \"broadcasting\".\n",
    "\n",
    "wSLP = SLP\n",
    "wSLP['slp'] = SLP['slp'] * clat\n",
    "\n",
    "# For now, metadata for slp must be copied over explicitly; it is not preserved by binary operators like multiplication.\n",
    "wSLP['slp'].attrs = ds['slp'].attrs\n",
    "wSLP['slp'].attrs['long_name'] = 'Wgt: ' + wSLP['slp'].attrs['long_name']"
   ]
  },
  {
   "cell_type": "markdown",
   "metadata": {},
   "source": [
    "Subset data to the North Atlantic region:\n",
    "\n"
   ]
  },
  {
   "cell_type": "code",
   "execution_count": null,
   "metadata": {},
   "outputs": [],
   "source": [
    "xw = wSLP.sel(lat=slice(latS, latN), lon=slice(lonL, lonR))"
   ]
  },
  {
   "cell_type": "markdown",
   "metadata": {},
   "source": [
    "Compute the EOFs:\n",
    "\n"
   ]
  },
  {
   "cell_type": "code",
   "execution_count": null,
   "metadata": {},
   "outputs": [],
   "source": [
    "# Transpose data to have 'time' in the first dimension\n",
    "# as `eofunc` functions expects so for xarray inputs for now\n",
    "xw_slp = xw[\"slp\"].transpose('time', 'lat', 'lon')\n",
    "\n",
    "eofs = eofunc_eofs(xw_slp, neofs=neof, meta=True)\n",
    "\n",
    "pcs = eofunc_pcs(xw_slp, npcs=neof, meta=True)\n",
    "\n",
    "# Change the sign of the second EOF and its time-series for\n",
    "# consistent visualization purposes. See this explanation:\n",
    "# https://www.ncl.ucar.edu/Support/talk_archives/2009/2015.html\n",
    "# about that EOF signs are arbitrary and do not change the physical\n",
    "# interpretation.\n",
    "eofs[1, :, :] = eofs[1, :, :] * (-1)\n",
    "pcs[1, :] = pcs[1, :] * (-1)"
   ]
  },
  {
   "cell_type": "markdown",
   "metadata": {},
   "source": [
    "Normalize time series:\n",
    "\n"
   ]
  },
  {
   "cell_type": "code",
   "execution_count": null,
   "metadata": {},
   "outputs": [],
   "source": [
    "# Sum spatial weights over the area used.\n",
    "nLon = xw.sizes[\"lon\"]\n",
    "\n",
    "# Bump the upper value of the slice, so that latitude values equal to latN are included.\n",
    "clat_subset = clat.sel(lat=slice(latS, latN + 0.01))\n",
    "weightTotal = clat_subset.sum() * nLon\n",
    "pcs = pcs / weightTotal"
   ]
  },
  {
   "cell_type": "markdown",
   "metadata": {},
   "source": [
    "Utility function:\n",
    "\n"
   ]
  },
  {
   "cell_type": "code",
   "execution_count": null,
   "metadata": {},
   "outputs": [],
   "source": [
    "# Define a utility function for creating a contour plot.\n",
    "def make_contour_plot(ax, dataset):\n",
    "    lat = dataset['lat']\n",
    "    lon = dataset['lon']\n",
    "    values = dataset.data\n",
    "\n",
    "    # Import an NCL colormap\n",
    "    cmap = cmaps.BlWhRe\n",
    "\n",
    "    # Specify contour levelstamam\n",
    "    v = np.linspace(-0.08, 0.08, 9, endpoint=True)\n",
    "\n",
    "    # The function contourf() produces fill colors, and contour() calculates contour label locations.\n",
    "    cplot = ax.contourf(lon,\n",
    "                        lat,\n",
    "                        values,\n",
    "                        levels=v,\n",
    "                        cmap=cmap,\n",
    "                        extend=\"both\",\n",
    "                        transform=ccrs.PlateCarree())\n",
    "\n",
    "    p = ax.contour(lon,\n",
    "                   lat,\n",
    "                   values,\n",
    "                   levels=v,\n",
    "                   linewidths=0.0,\n",
    "                   transform=ccrs.PlateCarree())\n",
    "\n",
    "    # Label the contours\n",
    "    ax.clabel(p, fontsize=8, fmt=\"%0.2f\", colors=\"black\")\n",
    "\n",
    "    # Add coastlines\n",
    "    ax.coastlines(linewidth=0.5)\n",
    "\n",
    "    # Use geocat.viz.util convenience function to add minor and major tick lines\n",
    "    gv.add_major_minor_ticks(ax,\n",
    "                             x_minor_per_major=3,\n",
    "                             y_minor_per_major=4,\n",
    "                             labelsize=10)\n",
    "\n",
    "    # Use geocat.viz.util convenience function to set axes tick values\n",
    "    gv.set_axes_limits_and_ticks(ax,\n",
    "                                 xticks=[-60, -30, 0, 30],\n",
    "                                 yticks=[40, 60, 80])\n",
    "\n",
    "    # Use geocat.viz.util convenience function to make plots look like NCL plots, using latitude & longitude tick labels\n",
    "    gv.add_lat_lon_ticklabels(ax)\n",
    "\n",
    "    return cplot, ax"
   ]
  },
  {
   "cell_type": "markdown",
   "metadata": {},
   "source": [
    "Plot (1): Draw a contour plot for each EOF\n",
    "\n"
   ]
  },
  {
   "cell_type": "code",
   "execution_count": null,
   "metadata": {},
   "outputs": [],
   "source": [
    "# Generate figure and axes using Cartopy projection  and set figure size (width, height) in inches\n",
    "fig, axs = plt.subplots(neof,\n",
    "                        1,\n",
    "                        subplot_kw={\"projection\": ccrs.PlateCarree()},\n",
    "                        figsize=(6, 10.6))\n",
    "\n",
    "# Add multiple axes to the figure as contour and contourf plots\n",
    "for i in range(neof):\n",
    "    eof_single = eofs.sel(eof=i)\n",
    "\n",
    "    # Create contour plot for the current axes\n",
    "    cplot, axs[i] = make_contour_plot(axs[i], eof_single)\n",
    "\n",
    "    # Use geocat.viz.util convenience function to add titles to left and right of the plot axis.\n",
    "    pct = eofs.attrs['varianceFraction'].values[i] * 100\n",
    "    gv.set_titles_and_labels(axs[i],\n",
    "                             lefttitle=f'EOF {i + 1}',\n",
    "                             lefttitlefontsize=10,\n",
    "                             righttitle=f'{pct:.1f}%',\n",
    "                             righttitlefontsize=10)\n",
    "\n",
    "# Adjust subplot spacings and locations\n",
    "plt.subplots_adjust(bottom=0.07, top=0.95, hspace=0.15)\n",
    "\n",
    "# Add horizontal colorbar\n",
    "cbar = plt.colorbar(cplot,\n",
    "                    ax=axs,\n",
    "                    orientation='horizontal',\n",
    "                    shrink=0.9,\n",
    "                    pad=0.05,\n",
    "                    fraction=.02,\n",
    "                    extendrect=True,\n",
    "                    extendfrac='auto')\n",
    "cbar.ax.tick_params(labelsize=8)\n",
    "\n",
    "# Set a common title\n",
    "axs[0].set_title(f'SLP: DJF: {yearStart}-{yearEnd}', fontsize=14, y=1.12)\n",
    "\n",
    "# Show the plot\n",
    "plt.show()"
   ]
  },
  {
   "cell_type": "markdown",
   "metadata": {},
   "source": [
    "Utility function:\n",
    "\n"
   ]
  },
  {
   "cell_type": "code",
   "execution_count": null,
   "metadata": {},
   "outputs": [],
   "source": [
    "# Define a utility function for creating a bar plot.\n",
    "\n",
    "\n",
    "def make_bar_plot(ax, dataset):\n",
    "    years = list(dataset.time.dt.year)\n",
    "    values = list(dataset.values)\n",
    "    colors = ['blue' if val < 0 else 'red' for val in values]\n",
    "\n",
    "    ax.bar(years,\n",
    "           values,\n",
    "           color=colors,\n",
    "           width=1.0,\n",
    "           edgecolor='black',\n",
    "           linewidth=0.5)\n",
    "    ax.set_ylabel('Pa')\n",
    "\n",
    "    # Use geocat.viz.util convenience function to add minor and major tick lines\n",
    "    gv.add_major_minor_ticks(ax,\n",
    "                             x_minor_per_major=4,\n",
    "                             y_minor_per_major=5,\n",
    "                             labelsize=8)\n",
    "\n",
    "    # Use geocat.viz.util convenience function to set axes tick values\n",
    "    gv.set_axes_limits_and_ticks(ax,\n",
    "                                 xticks=np.linspace(1980, 2000, 6),\n",
    "                                 xlim=[1978.5, 2003.5])\n",
    "\n",
    "    return ax"
   ]
  },
  {
   "cell_type": "markdown",
   "metadata": {},
   "source": [
    "Plot (2): Produce a bar plot for each EOF.\n",
    "\n"
   ]
  },
  {
   "cell_type": "code",
   "execution_count": null,
   "metadata": {},
   "outputs": [],
   "source": [
    "# Generate figure and axes using Cartopy projection and set figure size (width, height) in inches\n",
    "fig, axs = plt.subplots(neof, 1, constrained_layout=True, figsize=(6, 7.5))\n",
    "\n",
    "# Add multiple axes to the figure as bar-plots\n",
    "for i in range(neof):\n",
    "    eof_single = pcs.sel(pc=i)\n",
    "\n",
    "    axs[i] = make_bar_plot(axs[i], eof_single)\n",
    "    pct = eofs.attrs['varianceFraction'].values[i] * 100\n",
    "    gv.set_titles_and_labels(axs[i],\n",
    "                             lefttitle=f'EOF {i + 1}',\n",
    "                             lefttitlefontsize=10,\n",
    "                             righttitle=f'{pct:.1f}%',\n",
    "                             righttitlefontsize=10)\n",
    "\n",
    "# Set a common title\n",
    "axs[0].set_title(f'SLP: DJF: {yearStart}-{yearEnd}', fontsize=14, y=1.12)\n",
    "\n",
    "# Show the plot\n",
    "plt.show()"
   ]
  }
 ],
 "metadata": {
  "kernelspec": {
   "display_name": "Python 3 (ipykernel)",
   "language": "python",
   "name": "python3"
  },
  "language_info": {
   "codemirror_mode": {
    "name": "ipython",
    "version": 3
   },
   "file_extension": ".py",
   "mimetype": "text/x-python",
   "name": "python",
   "nbconvert_exporter": "python",
   "pygments_lexer": "ipython3",
   "version": "3.9.13"
  }
 },
 "nbformat": 4,
 "nbformat_minor": 1
}
