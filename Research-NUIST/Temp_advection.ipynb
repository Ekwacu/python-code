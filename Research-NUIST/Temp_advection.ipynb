{
 "cells": [
  {
   "cell_type": "markdown",
   "id": "2c2547f0",
   "metadata": {},
   "source": [
    "### A python script to calculate and plot Temperature Advection by Samuel Ekwacu"
   ]
  },
  {
   "cell_type": "raw",
   "id": "4916f68e",
   "metadata": {},
   "source": [
    "Differential Temperature Advection with JRA55 Data\n",
    "=================================================\n",
    "By: Samuel Ekwacu\n",
    "This example creates a  plot to illustrate the difference\n",
    "between single level temperature advection and later applyto computed differential\n",
    "temperature advection between two layers. This example makes use of JRA55\n",
    "output."
   ]
  },
  {
   "cell_type": "code",
   "execution_count": 323,
   "id": "b8eea4be",
   "metadata": {},
   "outputs": [],
   "source": [
    "import cartopy.crs as ccrs\n",
    "import cartopy.feature as cfeature\n",
    "import matplotlib.gridspec as gridspec\n",
    "import matplotlib.pyplot as plt\n",
    "import metpy.calc as mpcalc\n",
    "from metpy.units import units\n",
    "import numpy as np\n",
    "import xarray as xr\n",
    "from metpy.cbook import example_data"
   ]
  },
  {
   "cell_type": "code",
   "execution_count": 324,
   "id": "04dfbf74",
   "metadata": {},
   "outputs": [],
   "source": [
    "#Read mean temperature data\n",
    "ds =xr.open_dataset('C:/Diabatic_data/extra2/advection/temp1_1961-1981_mon.nc')\n",
    "ds = ds.sel(height=2) #selecting to the pressure level\n",
    "#ds.data_vars"
   ]
  },
  {
   "cell_type": "code",
   "execution_count": 325,
   "id": "2f58aacf",
   "metadata": {},
   "outputs": [],
   "source": [
    "#seting coordinate system for temp\n",
    "ds.coords['lon']=(ds.coords['lon']+180)%360-180\n",
    "ds=ds.sortby(ds.lon)\n",
    "#ds.data_vars\n",
    "#ds"
   ]
  },
  {
   "cell_type": "code",
   "execution_count": 326,
   "id": "e25a212f",
   "metadata": {},
   "outputs": [
    {
     "data": {
      "text/plain": [
       "Data variables:\n",
       "    air_temp  (time, lat, lon) float32 ..."
      ]
     },
     "execution_count": 326,
     "metadata": {},
     "output_type": "execute_result"
    }
   ],
   "source": [
    "temp= ds.sel(lon=slice(-20, 55), lat=slice(40, -35))  ## Slice to Africa\n",
    "temp.data_vars\n",
    "#temp"
   ]
  },
  {
   "cell_type": "code",
   "execution_count": 327,
   "id": "137753af",
   "metadata": {},
   "outputs": [],
   "source": [
    "#Read mean uv components of wind\n",
    "ds1 =xr.open_dataset('C:/Diabatic_data/extra2/advection/mean_uvwind1_1961-1981.nc')\n",
    "ds1 = ds1.sel(lev=85000) #selecting to the pressure level\n",
    "#ds1.data_vars"
   ]
  },
  {
   "cell_type": "code",
   "execution_count": 328,
   "id": "4b411c54",
   "metadata": {},
   "outputs": [],
   "source": [
    "#seting coordinate system for uv componnets of wind\n",
    "ds1.coords['lon']=(ds1.coords['lon']+180)%360-180\n",
    "ds1=ds1.sortby(ds1.lon)\n",
    "#ds1.data_vars"
   ]
  },
  {
   "cell_type": "code",
   "execution_count": 329,
   "id": "45eb1a1c",
   "metadata": {},
   "outputs": [
    {
     "data": {
      "text/plain": [
       "Data variables:\n",
       "    u        (time, lat, lon) float32 ...\n",
       "    v        (time, lat, lon) float32 ..."
      ]
     },
     "execution_count": 329,
     "metadata": {},
     "output_type": "execute_result"
    }
   ],
   "source": [
    "uv_wind = ds1.sel(lon=slice(-20, 55), lat=slice(40, -35))  ## Slice to Africa\n",
    "uv_wind.data_vars\n",
    "#uv_wind"
   ]
  },
  {
   "cell_type": "code",
   "execution_count": 330,
   "id": "abfc48bf",
   "metadata": {},
   "outputs": [],
   "source": [
    "# Get lat/lon data from file\n",
    "temp_var = temp.variables['air_temp']\n",
    "u_wind_var = uv_wind.variables['u']\n",
    "v_wind_var = uv_wind.variables['v']\n",
    "#time_var = temp.variables[find_time_var(temp_var)]\n",
    "lat_var = temp.variables['lat']\n",
    "lon_var = temp.variables['lon']"
   ]
  },
  {
   "cell_type": "code",
   "execution_count": 331,
   "id": "ab8bcbe3",
   "metadata": {},
   "outputs": [],
   "source": [
    "# Get actual data values and remove any size 1 dimensions\n",
    "lat = lat_var[:].squeeze()\n",
    "lon = lon_var[:].squeeze()\n",
    "#hght = hght_var[:].squeeze()\n",
    "temp1 = temp_var[:].squeeze() * units.degC\n",
    "u_wind = units('m/s') * u_wind_var[:].squeeze()\n",
    "v_wind = units('m/s') * v_wind_var[:].squeeze()\n",
    "#temp1"
   ]
  },
  {
   "cell_type": "code",
   "execution_count": 332,
   "id": "aa1be0ca",
   "metadata": {},
   "outputs": [],
   "source": [
    "# or apply this cell\n",
    "tmpk = mpcalc.smooth_n_point(temp['air_temp'].squeeze())\n",
    "uwnd = mpcalc.smooth_n_point(uv_wind['u'].squeeze())\n",
    "vwnd = mpcalc.smooth_n_point(uv_wind['v'].squeeze())\n",
    "#tmpk"
   ]
  },
  {
   "cell_type": "code",
   "execution_count": 333,
   "id": "d8647c7f",
   "metadata": {},
   "outputs": [],
   "source": [
    "# Get time in a nice datetime object format\n",
    "vtime = temp.time.values.astype('datetime64[ms]').astype('O')[0]\n",
    "#vtime"
   ]
  },
  {
   "cell_type": "code",
   "execution_count": 334,
   "id": "47612e1a",
   "metadata": {},
   "outputs": [],
   "source": [
    "# Combine 1D latitude and longitudes into a 2D grid of locations\n",
    "lon_2d, lat_2d = np.meshgrid(lon, lat)\n",
    "# Gridshift for barbs\n",
    "lon_2d[lon_2d > 180] = lon_2d[lon_2d > 180] - 360"
   ]
  },
  {
   "cell_type": "code",
   "execution_count": 335,
   "id": "beffb1d8",
   "metadata": {},
   "outputs": [],
   "source": [
    "lats = ds.lat.data\n",
    "lons = ds.lon.data"
   ]
  },
  {
   "cell_type": "code",
   "execution_count": 341,
   "id": "9664af9c",
   "metadata": {},
   "outputs": [
    {
     "name": "stderr",
     "output_type": "stream",
     "text": [
      "C:\\Users\\Samuel-NUIST\\anaconda3\\lib\\site-packages\\metpy\\xarray.py:1305: UserWarning: Argument longitude given as xarray Variable...casting to its data. xarray DataArrays are recommended instead.\n",
      "  warnings.warn(\n",
      "C:\\Users\\Samuel-NUIST\\anaconda3\\lib\\site-packages\\metpy\\xarray.py:1305: UserWarning: Argument latitude given as xarray Variable...casting to its data. xarray DataArrays are recommended instead.\n",
      "  warnings.warn(\n"
     ]
    }
   ],
   "source": [
    "# Calculate variable dx, dy values for use in calculations\n",
    "dx, dy = mpcalc.lat_lon_grid_deltas(lon_var, lat_var)\n",
    "#dx, dy = mpcalc.lat_lon_grid_deltas(lons, lats)"
   ]
  },
  {
   "cell_type": "code",
   "execution_count": 342,
   "id": "1f0d74ee",
   "metadata": {},
   "outputs": [
    {
     "ename": "ValueError",
     "evalue": "Must provide dx, dy, and/or dz arguments or input DataArray with interpretable dimension coordinates.",
     "output_type": "error",
     "traceback": [
      "\u001b[1;31m---------------------------------------------------------------------------\u001b[0m",
      "\u001b[1;31mValueError\u001b[0m                                Traceback (most recent call last)",
      "\u001b[1;32m~\\AppData\\Local\\Temp\\ipykernel_14692\\275001044.py\u001b[0m in \u001b[0;36m<module>\u001b[1;34m\u001b[0m\n\u001b[1;32m----> 1\u001b[1;33m \u001b[0mtadv\u001b[0m \u001b[1;33m=\u001b[0m \u001b[0mmpcalc\u001b[0m\u001b[1;33m.\u001b[0m\u001b[0madvection\u001b[0m\u001b[1;33m(\u001b[0m\u001b[0mtemp1\u001b[0m\u001b[1;33m,\u001b[0m \u001b[0mu_wind\u001b[0m\u001b[1;33m,\u001b[0m \u001b[0mv_wind\u001b[0m\u001b[1;33m,\u001b[0m\u001b[1;33m(\u001b[0m\u001b[0mdx\u001b[0m\u001b[1;33m,\u001b[0m \u001b[0mdy\u001b[0m\u001b[1;33m)\u001b[0m\u001b[1;33m)\u001b[0m\u001b[1;33m\u001b[0m\u001b[1;33m\u001b[0m\u001b[0m\n\u001b[0m",
      "\u001b[1;32m~\\anaconda3\\lib\\site-packages\\metpy\\calc\\tools.py\u001b[0m in \u001b[0;36mwrapper\u001b[1;34m(*args, **kwargs)\u001b[0m\n\u001b[0;32m   1104\u001b[0m                 \u001b[1;31m# Handle advection case, allowing dx/dy to be None but dz to not be None\u001b[0m\u001b[1;33m\u001b[0m\u001b[1;33m\u001b[0m\u001b[0m\n\u001b[0;32m   1105\u001b[0m                 \u001b[1;32mif\u001b[0m \u001b[0mbound_args\u001b[0m\u001b[1;33m.\u001b[0m\u001b[0marguments\u001b[0m\u001b[1;33m[\u001b[0m\u001b[1;34m'dz'\u001b[0m\u001b[1;33m]\u001b[0m \u001b[1;32mis\u001b[0m \u001b[1;32mNone\u001b[0m\u001b[1;33m:\u001b[0m\u001b[1;33m\u001b[0m\u001b[1;33m\u001b[0m\u001b[0m\n\u001b[1;32m-> 1106\u001b[1;33m                     raise ValueError(\n\u001b[0m\u001b[0;32m   1107\u001b[0m                         \u001b[1;34m'Must provide dx, dy, and/or dz arguments or input DataArray with '\u001b[0m\u001b[1;33m\u001b[0m\u001b[1;33m\u001b[0m\u001b[0m\n\u001b[0;32m   1108\u001b[0m                         \u001b[1;34m'interpretable dimension coordinates.'\u001b[0m\u001b[1;33m\u001b[0m\u001b[1;33m\u001b[0m\u001b[0m\n",
      "\u001b[1;31mValueError\u001b[0m: Must provide dx, dy, and/or dz arguments or input DataArray with interpretable dimension coordinates."
     ]
    }
   ],
   "source": [
    "tadv = mpcalc.advection(temp1, u_wind, v_wind,(dx, dy))"
   ]
  },
  {
   "cell_type": "code",
   "execution_count": null,
   "id": "96945619",
   "metadata": {},
   "outputs": [],
   "source": [
    "# Calculate temperature advection using metpy function\n",
    "temp_adv2 = mpcalc.advection(temp1 * units.degC, [u_wind, v_wind],\n",
    "                       (dx, dy), dim_order='yx') * units('degC/sec')"
   ]
  },
  {
   "cell_type": "code",
   "execution_count": null,
   "id": "cfd1a45c",
   "metadata": {},
   "outputs": [],
   "source": [
    "# Calculate temperature advection using metpy function\n",
    "temp_adv1 = mpcalc.advection(tmpk, (uwnd, vwnd),\n",
    "                            (dx, dy), dim_order='yx').to_base_units()"
   ]
  },
  {
   "cell_type": "code",
   "execution_count": null,
   "id": "0036f674",
   "metadata": {},
   "outputs": [],
   "source": []
  }
 ],
 "metadata": {
  "kernelspec": {
   "display_name": "Python 3 (ipykernel)",
   "language": "python",
   "name": "python3"
  },
  "language_info": {
   "codemirror_mode": {
    "name": "ipython",
    "version": 3
   },
   "file_extension": ".py",
   "mimetype": "text/x-python",
   "name": "python",
   "nbconvert_exporter": "python",
   "pygments_lexer": "ipython3",
   "version": "3.9.13"
  }
 },
 "nbformat": 4,
 "nbformat_minor": 5
}
