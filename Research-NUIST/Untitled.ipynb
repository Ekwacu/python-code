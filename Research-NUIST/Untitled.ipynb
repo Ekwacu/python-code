{
 "cells": [
  {
   "cell_type": "code",
   "execution_count": 1,
   "id": "7114e9cd",
   "metadata": {},
   "outputs": [],
   "source": [
    "#conda install -c conda-forge pandas"
   ]
  },
  {
   "cell_type": "code",
   "execution_count": 1,
   "id": "36011ca9",
   "metadata": {},
   "outputs": [],
   "source": [
    "#conda install -c conda-forge numpy"
   ]
  },
  {
   "cell_type": "code",
   "execution_count": 1,
   "id": "a41fba6c",
   "metadata": {},
   "outputs": [],
   "source": [
    "#conda install -c conda-forge matplotlib-base"
   ]
  },
  {
   "cell_type": "code",
   "execution_count": 1,
   "id": "abdf17d9",
   "metadata": {},
   "outputs": [],
   "source": [
    "#conda install -c conda-forge xarray"
   ]
  },
  {
   "cell_type": "code",
   "execution_count": 1,
   "id": "664b0349",
   "metadata": {},
   "outputs": [],
   "source": [
    "#conda install -c conda-forge pymannkendall"
   ]
  },
  {
   "cell_type": "code",
   "execution_count": 3,
   "id": "54f47a42",
   "metadata": {},
   "outputs": [],
   "source": [
    "conda install -c conda-forge regionmask"
   ]
  },
  {
   "cell_type": "code",
   "execution_count": null,
   "id": "4c2e7c11",
   "metadata": {},
   "outputs": [],
   "source": [
    "conda install -c conda-forge geopandas"
   ]
  },
  {
   "cell_type": "code",
   "execution_count": null,
   "id": "25709256",
   "metadata": {},
   "outputs": [],
   "source": [
    "conda install -c conda-forge descartes"
   ]
  },
  {
   "cell_type": "code",
   "execution_count": 1,
   "id": "f1479ed3",
   "metadata": {},
   "outputs": [],
   "source": [
    "#conda install -c conda-forge cartopy"
   ]
  },
  {
   "cell_type": "code",
   "execution_count": 1,
   "id": "ac121627",
   "metadata": {},
   "outputs": [],
   "source": [
    "#conda install -c conda-forge geocat-viz"
   ]
  },
  {
   "cell_type": "code",
   "execution_count": 1,
   "id": "10066865",
   "metadata": {},
   "outputs": [],
   "source": [
    "#conda install -c conda-forge netCDF4"
   ]
  },
  {
   "cell_type": "code",
   "execution_count": 1,
   "id": "fe586f06",
   "metadata": {},
   "outputs": [],
   "source": [
    "#conda install scipy"
   ]
  },
  {
   "cell_type": "code",
   "execution_count": null,
   "id": "0463e13b",
   "metadata": {},
   "outputs": [],
   "source": [
    "#conda uninstall xarray"
   ]
  },
  {
   "cell_type": "code",
   "execution_count": 1,
   "id": "303fe3c5",
   "metadata": {},
   "outputs": [],
   "source": [
    "#conda install -c \"conda-forge/label/cf201901\" xarray"
   ]
  },
  {
   "cell_type": "code",
   "execution_count": 1,
   "id": "af080271",
   "metadata": {},
   "outputs": [],
   "source": [
    "#conda install -c \"conda-forge/label/cf202003\" xarray"
   ]
  },
  {
   "cell_type": "code",
   "execution_count": 2,
   "id": "dcc12911",
   "metadata": {},
   "outputs": [],
   "source": [
    "conda install -c conda-forge xarray dask netCDF4 bottleneck"
   ]
  },
  {
   "cell_type": "code",
   "execution_count": null,
   "id": "e6d3c54b",
   "metadata": {},
   "outputs": [],
   "source": []
  }
 ],
 "metadata": {
  "kernelspec": {
   "display_name": "Python 3 (ipykernel)",
   "language": "python",
   "name": "python3"
  },
  "language_info": {
   "codemirror_mode": {
    "name": "ipython",
    "version": 3
   },
   "file_extension": ".py",
   "mimetype": "text/x-python",
   "name": "python",
   "nbconvert_exporter": "python",
   "pygments_lexer": "ipython3",
   "version": "3.10.9"
  }
 },
 "nbformat": 4,
 "nbformat_minor": 5
}
